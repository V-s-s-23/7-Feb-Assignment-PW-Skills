{
 "cells": [
  {
   "cell_type": "markdown",
   "id": "33aaf0b0",
   "metadata": {},
   "source": [
    "# Q1. You are writing code for a company. The requirement of the company is that you create a python function that will check whether the password entered by the user is correct or not. The function should take the password as input and return the string “Valid Password” if the entered password follows the below-given password guidelines else it should return “Invalid Password”.Note: \n",
    "## 1. The Password should contain at least two uppercase letters and at least two lowercase letters.\n",
    "## 2. The Password should contain at least a number and three special characters.\n",
    "## 3. The length of the password should be 10 characters long."
   ]
  },
  {
   "cell_type": "code",
   "execution_count": 28,
   "id": "68fd660b",
   "metadata": {},
   "outputs": [],
   "source": [
    "def check_password(password):\n",
    "    uppercase = False\n",
    "    lowercase = False\n",
    "    number = False\n",
    "    special = 0\n",
    "    \n",
    "    for i in password:\n",
    "        if i.isupper():\n",
    "            uppercase = True\n",
    "            \n",
    "        elif i.islower():\n",
    "            lowercase= True\n",
    "        \n",
    "        elif i.isdigit():\n",
    "            number = True\n",
    "        \n",
    "        elif i in \"!@#$%^&*()_+-=[]{}|;':\\\",./<>?\\\\\":\n",
    "            special = special+1\n",
    "        \n",
    "    if (uppercase and lowercase) and number and(special<=3) and (len(password) == 10):\n",
    "        return ('Valid Password')\n",
    "    else:\n",
    "        return('Invalid Password')         "
   ]
  },
  {
   "cell_type": "code",
   "execution_count": 32,
   "id": "2e006ecf",
   "metadata": {},
   "outputs": [
    {
     "data": {
      "text/plain": [
       "'Valid Password'"
      ]
     },
     "execution_count": 32,
     "metadata": {},
     "output_type": "execute_result"
    }
   ],
   "source": [
    "check_password('PWsk!!s@12')"
   ]
  },
  {
   "cell_type": "code",
   "execution_count": null,
   "id": "694b44a9",
   "metadata": {},
   "outputs": [],
   "source": [
    "\n",
    "## To check if a string starts with a particular letter in Python, you can use the startswith method. For example:"
   ]
  },
  {
   "cell_type": "markdown",
   "id": "85aed092",
   "metadata": {},
   "source": [
    "# Q2. Solve the below-given questions using at least one of the following:\n",
    "## 1. Lambda function\n",
    "## 2. Filter function\n",
    "## 3. Zap function\n",
    "## 4. List Comprehension\n",
    "\n",
    "## -Check if the string starts with a particular letter\n",
    "## -Check if the string is numeric\n",
    "## Sort a list of tuples having fruit names and their quantity. [(\"mango\",99),(\"orange\",80), (\"grapes\", 1000)]\n",
    "## Find the squares of numbers from 1 to 10.\n",
    "## Find the cube root of numbers from 1 to 10\n",
    "## Check if a given number is even\n",
    "## Filter odd numbers from the given list.\n",
    "## [1,2,3,4,5,6,7,8,9,10]\n",
    "## Sort a list of integers into positive and negative integers lists.\n",
    "## [1,2,3,4,5,6,-1,-2,-3,-4,-5,0]"
   ]
  },
  {
   "cell_type": "code",
   "execution_count": null,
   "id": "ce0b1b28",
   "metadata": {},
   "outputs": [],
   "source": []
  },
  {
   "cell_type": "markdown",
   "id": "bb9a1c00",
   "metadata": {},
   "source": [
    "# Q1.Check if the string starts with a particular letter?\n",
    "## Answer=> To check if a string starts with a particular letter in Python, you can use the startswith method. For example:"
   ]
  },
  {
   "cell_type": "code",
   "execution_count": 35,
   "id": "52c9fe6b",
   "metadata": {},
   "outputs": [
    {
     "name": "stdout",
     "output_type": "stream",
     "text": [
      "The string starts with H\n"
     ]
    }
   ],
   "source": [
    "string = \"Hello, World!\"\n",
    "if string.startswith(\"H\"):\n",
    "    print(\"The string starts with H\")\n",
    "else:\n",
    "    print(\"The string does not start with H\")"
   ]
  },
  {
   "cell_type": "code",
   "execution_count": null,
   "id": "ef09c57a",
   "metadata": {},
   "outputs": [],
   "source": []
  },
  {
   "cell_type": "markdown",
   "id": "964571ba",
   "metadata": {},
   "source": [
    "# Q2. Check if the string is numeric"
   ]
  },
  {
   "cell_type": "code",
   "execution_count": 36,
   "id": "b2b1bfa7",
   "metadata": {},
   "outputs": [
    {
     "name": "stdout",
     "output_type": "stream",
     "text": [
      "The string is numeric\n"
     ]
    }
   ],
   "source": [
    "string = \"12345\"\n",
    "if string.isdigit():\n",
    "    print(\"The string is numeric\")\n",
    "else:\n",
    "    print(\"The string is not numeric\")\n"
   ]
  },
  {
   "cell_type": "code",
   "execution_count": null,
   "id": "f8c9e5b4",
   "metadata": {},
   "outputs": [],
   "source": []
  },
  {
   "cell_type": "markdown",
   "id": "5ee2e713",
   "metadata": {},
   "source": [
    "## Q3&7. Sort a list of tuples having fruit names and their quantity. [(\"mango\",99),(\"orange\",80),(\"grapes\", 1000)]"
   ]
  },
  {
   "cell_type": "code",
   "execution_count": 5,
   "id": "7d7c370f",
   "metadata": {},
   "outputs": [
    {
     "name": "stdout",
     "output_type": "stream",
     "text": [
      "[('orange', 80), ('mango', 99), ('grapes', 1000)]\n"
     ]
    }
   ],
   "source": [
    "l = [(\"mango\",99),(\"orange\",80), (\"grapes\", 1000)]\n",
    "l2 = sorted(l,key= lambda x:x[1])\n",
    "print(l2)"
   ]
  },
  {
   "cell_type": "code",
   "execution_count": null,
   "id": "75cb8390",
   "metadata": {},
   "outputs": [],
   "source": []
  },
  {
   "cell_type": "markdown",
   "id": "48f836e2",
   "metadata": {},
   "source": [
    "# Q4. Find the squares of numbers from 1 to 10"
   ]
  },
  {
   "cell_type": "code",
   "execution_count": 10,
   "id": "8a0c689a",
   "metadata": {},
   "outputs": [
    {
     "name": "stdout",
     "output_type": "stream",
     "text": [
      "[1, 4, 9, 16, 25, 36, 49, 64, 81, 100]\n"
     ]
    }
   ],
   "source": [
    "l1 = list(range(1,11))\n",
    "print(list(map(lambda x: x**2,l1)))"
   ]
  },
  {
   "cell_type": "code",
   "execution_count": null,
   "id": "3f169c85",
   "metadata": {},
   "outputs": [],
   "source": []
  },
  {
   "cell_type": "markdown",
   "id": "06aa15ec",
   "metadata": {},
   "source": [
    "# Q5. Find the cube root of numbers from 1 to 10"
   ]
  },
  {
   "cell_type": "code",
   "execution_count": 26,
   "id": "244da094",
   "metadata": {},
   "outputs": [
    {
     "name": "stdout",
     "output_type": "stream",
     "text": [
      " Cube root of 1:1.0\n",
      " Cube root of 2:1.2599210498948732\n",
      " Cube root of 3:1.4422495703074083\n",
      " Cube root of 4:1.5874010519681994\n",
      " Cube root of 5:1.7099759466766968\n",
      " Cube root of 6:1.8171205928321397\n",
      " Cube root of 7:1.912931182772389\n",
      " Cube root of 8:2.0\n",
      " Cube root of 9:2.080083823051904\n",
      " Cube root of 10:2.154434690031884\n"
     ]
    }
   ],
   "source": [
    "l = list(range(1,11))\n",
    "l1 = [print(f\" Cube root of {i}:{i**(1/3)}\") for i in l]"
   ]
  },
  {
   "cell_type": "code",
   "execution_count": null,
   "id": "8c905ffe",
   "metadata": {},
   "outputs": [],
   "source": []
  },
  {
   "cell_type": "markdown",
   "id": "f73eddd6",
   "metadata": {},
   "source": [
    "# Q6.Sort a list of integers into positive and negative integers lists.\n",
    "## [1,2,3,4,5,6,-1,-2,-3,-4,-5,0]"
   ]
  },
  {
   "cell_type": "code",
   "execution_count": 27,
   "id": "d34639fb",
   "metadata": {},
   "outputs": [
    {
     "name": "stdout",
     "output_type": "stream",
     "text": [
      "Positive integers: [1, 2, 3, 4, 5, 6]\n",
      "Negative integers: [-1, -2, -3, -4, -5]\n"
     ]
    }
   ],
   "source": [
    "numbers = [1, 2, 3, 4, 5, 6, -1, -2, -3, -4, -5, 0]\n",
    "\n",
    "positive = [num for num in numbers if num > 0]\n",
    "negative = [num for num in numbers if num < 0]\n",
    "\n",
    "print(\"Positive integers:\", positive)\n",
    "print(\"Negative integers:\", negative)"
   ]
  },
  {
   "cell_type": "code",
   "execution_count": null,
   "id": "c327df70",
   "metadata": {},
   "outputs": [],
   "source": []
  }
 ],
 "metadata": {
  "kernelspec": {
   "display_name": "Python 3 (ipykernel)",
   "language": "python",
   "name": "python3"
  },
  "language_info": {
   "codemirror_mode": {
    "name": "ipython",
    "version": 3
   },
   "file_extension": ".py",
   "mimetype": "text/x-python",
   "name": "python",
   "nbconvert_exporter": "python",
   "pygments_lexer": "ipython3",
   "version": "3.9.12"
  }
 },
 "nbformat": 4,
 "nbformat_minor": 5
}
